{
  "nbformat": 4,
  "nbformat_minor": 0,
  "metadata": {
    "colab": {
      "provenance": [],
      "toc_visible": true,
      "authorship_tag": "ABX9TyNUnpZaAmi8riArW/Mi5Q0u",
      "include_colab_link": true
    },
    "kernelspec": {
      "name": "python3",
      "display_name": "Python 3"
    },
    "language_info": {
      "name": "python"
    }
  },
  "cells": [
    {
      "cell_type": "markdown",
      "metadata": {
        "id": "view-in-github",
        "colab_type": "text"
      },
      "source": [
        "<a href=\"https://colab.research.google.com/github/loretrango/CorsoCoding/blob/main/CorsoComputerCoding.ipynb\" target=\"_parent\"><img src=\"https://colab.research.google.com/assets/colab-badge.svg\" alt=\"Open In Colab\"/></a>"
      ]
    },
    {
      "cell_type": "code",
      "source": [
        "# pari o dispari\n",
        "# Decide se un numero è pari o dispari\n",
        "\n",
        "n = 8   # crea la variabile numero\n",
        "\n",
        "if n%2 == 0:   # se il resto della divisione per 2 è 0\n",
        "    print(\"Pari\")\n",
        "else:   # in tutti gli altri casi\n",
        "    print(\"Dispari\")"
      ],
      "metadata": {
        "colab": {
          "base_uri": "https://localhost:8080/"
        },
        "id": "GH5o5mjajnG6",
        "outputId": "6ddfaa85-b0e0-4e65-af39-bc6563c73ff7"
      },
      "execution_count": null,
      "outputs": [
        {
          "output_type": "stream",
          "name": "stdout",
          "text": [
            "Pari\n"
          ]
        }
      ]
    },
    {
      "cell_type": "code",
      "source": [
        "# fattoriale, con funzione ricorsiva\n",
        "\n",
        "def fact(n):\n",
        "  if n == 1:\n",
        "    return 1\n",
        "  else:\n",
        "    return n * fact(n-1)\n",
        "\n",
        "result = fact(3)\n",
        "print(result)\n",
        "\n",
        "print()\n",
        "\n",
        "for a in range(1,11):\n",
        "  result = fact(a)\n",
        "  print(result)"
      ],
      "metadata": {
        "colab": {
          "base_uri": "https://localhost:8080/"
        },
        "id": "KJCivyBtj4EZ",
        "outputId": "69ba35f4-c5dd-4654-e0ff-38f52d99c9d1"
      },
      "execution_count": null,
      "outputs": [
        {
          "output_type": "stream",
          "name": "stdout",
          "text": [
            "6\n",
            "\n",
            "1\n",
            "2\n",
            "6\n",
            "24\n",
            "120\n",
            "720\n",
            "5040\n",
            "40320\n",
            "362880\n",
            "3628800\n"
          ]
        }
      ]
    },
    {
      "cell_type": "markdown",
      "source": [
        "# Nuova sezione"
      ],
      "metadata": {
        "id": "8KfK2DYhnOkD"
      }
    },
    {
      "cell_type": "code",
      "source": [],
      "metadata": {
        "id": "j6Z3R0-Cm-qW"
      },
      "execution_count": null,
      "outputs": []
    },
    {
      "cell_type": "code",
      "execution_count": null,
      "metadata": {
        "colab": {
          "base_uri": "https://localhost:8080/"
        },
        "id": "ubZBTDaAi7rJ",
        "outputId": "b15a0a6e-1831-4640-eb5f-256db501a4f2"
      },
      "outputs": [
        {
          "output_type": "stream",
          "name": "stdout",
          "text": [
            "Area del triangolo\n",
            "Base: 10\n",
            "Altezza:  15\n",
            "Area: 75.0\n"
          ]
        }
      ],
      "source": [
        "# area del triangolo (questo è un commento, viene ignorato dal programma)\n",
        "b = 10   # Crea la variabile base\n",
        "h = 15   # Crea la variabile altezza\n",
        "\n",
        "A = b*h/2   # calcola l'area e assegna il valore alla variabile A\n",
        "\n",
        "# Stampa tutti i valori ...\n",
        "print(\"Area del triangolo\")\n",
        "print(\"Base:\", b)\n",
        "print(\"Altezza: \", h)\n",
        "print(\"Area:\", A)"
      ]
    }
  ]
}